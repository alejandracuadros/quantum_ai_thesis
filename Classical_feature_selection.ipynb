{
  "nbformat": 4,
  "nbformat_minor": 0,
  "metadata": {
    "colab": {
      "provenance": [],
      "authorship_tag": "ABX9TyPRxJ+7nckMXDn7NBgkAguY",
      "include_colab_link": true
    },
    "kernelspec": {
      "name": "python3",
      "display_name": "Python 3"
    },
    "language_info": {
      "name": "python"
    }
  },
  "cells": [
    {
      "cell_type": "markdown",
      "metadata": {
        "id": "view-in-github",
        "colab_type": "text"
      },
      "source": [
        "<a href=\"https://colab.research.google.com/github/alejandracuadros/quantum_ai_thesis/blob/main/Classical_feature_selection.ipynb\" target=\"_parent\"><img src=\"https://colab.research.google.com/assets/colab-badge.svg\" alt=\"Open In Colab\"/></a>"
      ]
    },
    {
      "cell_type": "code",
      "source": [
        "import pandas as pd\n",
        "import numpy as np\n",
        "from sklearn.model_selection import train_test_split\n",
        "from sklearn.feature_selection import SelectKBest, f_classif, mutual_info_classif, RFE\n",
        "from sklearn.svm import SVC\n",
        "from sklearn.linear_model import LogisticRegression\n",
        "from sklearn.metrics import accuracy_score"
      ],
      "metadata": {
        "id": "A7Ksd2opnGNw"
      },
      "execution_count": 1,
      "outputs": []
    },
    {
      "cell_type": "code",
      "source": [
        "# Load dataset from UCI repository\n",
        "url = \"https://archive.ics.uci.edu/ml/machine-learning-databases/ionosphere/ionosphere.data\"\n",
        "df = pd.read_csv(url, header=None)\n",
        "\n",
        "# Assign column names\n",
        "columns = [f'feature_{i}' for i in range(34)] + ['target']\n",
        "df.columns = columns\n",
        "\n",
        "# Convert target labels from 'g'/'b' to binary 1/0\n",
        "df['target'] = df['target'].map({'g': 1, 'b': 0})\n",
        "\n",
        "# Separate features and labels\n",
        "X = df.drop(columns='target')\n",
        "y = df['target']\n",
        "\n",
        "# Split into training and testing sets\n",
        "X_train, X_test, y_train, y_test = train_test_split(\n",
        "    X, y, test_size=0.2, random_state=42)\n",
        "\n",
        "print(f\"Loaded Ionosphere dataset from UCI.\")\n",
        "print(f\"Number of features: {X.shape[1]}, Samples: {X.shape[0]}\")\n",
        "print(f\"Train size: {X_train.shape[0]}, Test size: {X_test.shape[0]}\")\n"
      ],
      "metadata": {
        "colab": {
          "base_uri": "https://localhost:8080/"
        },
        "id": "q5jWmjDbn1Dd",
        "outputId": "d61c487f-bbe2-4df3-dc47-6b57b4b59d16"
      },
      "execution_count": 5,
      "outputs": [
        {
          "output_type": "stream",
          "name": "stdout",
          "text": [
            "Loaded Ionosphere dataset from UCI.\n",
            "Number of features: 34, Samples: 351\n",
            "Train size: 280, Test size: 71\n"
          ]
        }
      ]
    },
    {
      "cell_type": "code",
      "source": [
        "def evaluate_features(X_train_sel, X_test_sel, method_name):\n",
        "    \"\"\"Train SVM on selected features and print accuracy.\"\"\"\n",
        "    model = SVC(kernel='linear')\n",
        "    model.fit(X_train_sel, y_train)\n",
        "    y_pred = model.predict(X_test_sel)\n",
        "    acc = accuracy_score(y_test, y_pred)\n",
        "    print(f\"[{method_name}] Accuracy: {acc:.4f}\")\n",
        "    return acc\n",
        "\n",
        "\n",
        "# ANOVA F-test\n",
        "print(\" Feature Selection using ANOVA F-test\")\n",
        "anova_selector = SelectKBest(score_func=f_classif, k=6)\n",
        "X_train_anova = anova_selector.fit_transform(X_train, y_train)\n",
        "X_test_anova = anova_selector.transform(X_test)\n",
        "anova_acc = evaluate_features(X_train_anova, X_test_anova, \"ANOVA F-test\")\n",
        "\n",
        "# Mutual Information\n",
        "print(\"\\n Feature Selection using Mutual Information\")\n",
        "mi_selector = SelectKBest(score_func=mutual_info_classif, k=6)\n",
        "X_train_mi = mi_selector.fit_transform(X_train, y_train)\n",
        "X_test_mi = mi_selector.transform(X_test)\n",
        "mi_acc = evaluate_features(X_train_mi, X_test_mi, \"Mutual Information\")\n",
        "\n",
        "# Recursive Feature Elimination (RFE)\n",
        "print(\"\\n Feature Selection using RFE (Logistic Regression)\")\n",
        "rfe_model = LogisticRegression(solver='liblinear')\n",
        "rfe_selector = RFE(rfe_model, n_features_to_select=6)\n",
        "rfe_selector.fit(X_train, y_train)\n",
        "X_train_rfe = rfe_selector.transform(X_train)\n",
        "X_test_rfe = rfe_selector.transform(X_test)\n",
        "rfe_acc = evaluate_features(X_train_rfe, X_test_rfe, \"RFE\")\n",
        "\n",
        "# 🔹 9. Summary Table\n",
        "print(\"\\n Summary of Feature Selection Results:\")\n",
        "summary = pd.DataFrame({\n",
        "    'Method': ['ANOVA F-test', 'Mutual Information', 'RFE'],\n",
        "    'Test Accuracy': [anova_acc, mi_acc, rfe_acc]\n",
        "})\n",
        "print(summary)\n",
        "\n",
        "# 10. Save selected features to CSV\n",
        "selected_feature_sets = {\n",
        "    'anova': X.columns[anova_selector.get_support()],\n",
        "    'mutual_info': X.columns[mi_selector.get_support()],\n",
        "    'rfe': X.columns[rfe_selector.get_support()]\n",
        "}\n",
        "pd.DataFrame(selected_feature_sets).to_csv(\"../comparison/selected_features.csv\", index=False)\n",
        "print(\"\\n✅ Selected feature names saved to ../comparison/selected_features.csv\")\n"
      ],
      "metadata": {
        "colab": {
          "base_uri": "https://localhost:8080/",
          "height": 651
        },
        "id": "-ZutYBbwnNy3",
        "outputId": "05c1dd6f-27b9-4b37-a19d-1daa982587e8"
      },
      "execution_count": 6,
      "outputs": [
        {
          "output_type": "stream",
          "name": "stdout",
          "text": [
            " Feature Selection using ANOVA F-test\n",
            "[ANOVA F-test] Accuracy: 0.8732\n",
            "\n",
            " Feature Selection using Mutual Information\n",
            "[Mutual Information] Accuracy: 0.8310\n",
            "\n",
            " Feature Selection using RFE (Logistic Regression)\n"
          ]
        },
        {
          "output_type": "stream",
          "name": "stderr",
          "text": [
            "/usr/local/lib/python3.11/dist-packages/sklearn/feature_selection/_univariate_selection.py:111: UserWarning: Features [1] are constant.\n",
            "  warnings.warn(\"Features %s are constant.\" % constant_features_idx, UserWarning)\n",
            "/usr/local/lib/python3.11/dist-packages/sklearn/feature_selection/_univariate_selection.py:112: RuntimeWarning: invalid value encountered in divide\n",
            "  f = msb / msw\n"
          ]
        },
        {
          "output_type": "stream",
          "name": "stdout",
          "text": [
            "[RFE] Accuracy: 0.8592\n",
            "\n",
            " Summary of Feature Selection Results:\n",
            "               Method  Test Accuracy\n",
            "0        ANOVA F-test       0.873239\n",
            "1  Mutual Information       0.830986\n",
            "2                 RFE       0.859155\n"
          ]
        },
        {
          "output_type": "error",
          "ename": "OSError",
          "evalue": "Cannot save file into a non-existent directory: '../comparison'",
          "traceback": [
            "\u001b[0;31m---------------------------------------------------------------------------\u001b[0m",
            "\u001b[0;31mOSError\u001b[0m                                   Traceback (most recent call last)",
            "\u001b[0;32m<ipython-input-6-7134f0e7af33>\u001b[0m in \u001b[0;36m<cell line: 0>\u001b[0;34m()\u001b[0m\n\u001b[1;32m     46\u001b[0m     \u001b[0;34m'rfe'\u001b[0m\u001b[0;34m:\u001b[0m \u001b[0mX\u001b[0m\u001b[0;34m.\u001b[0m\u001b[0mcolumns\u001b[0m\u001b[0;34m[\u001b[0m\u001b[0mrfe_selector\u001b[0m\u001b[0;34m.\u001b[0m\u001b[0mget_support\u001b[0m\u001b[0;34m(\u001b[0m\u001b[0;34m)\u001b[0m\u001b[0;34m]\u001b[0m\u001b[0;34m\u001b[0m\u001b[0;34m\u001b[0m\u001b[0m\n\u001b[1;32m     47\u001b[0m }\n\u001b[0;32m---> 48\u001b[0;31m \u001b[0mpd\u001b[0m\u001b[0;34m.\u001b[0m\u001b[0mDataFrame\u001b[0m\u001b[0;34m(\u001b[0m\u001b[0mselected_feature_sets\u001b[0m\u001b[0;34m)\u001b[0m\u001b[0;34m.\u001b[0m\u001b[0mto_csv\u001b[0m\u001b[0;34m(\u001b[0m\u001b[0;34m\"../comparison/selected_features.csv\"\u001b[0m\u001b[0;34m,\u001b[0m \u001b[0mindex\u001b[0m\u001b[0;34m=\u001b[0m\u001b[0;32mFalse\u001b[0m\u001b[0;34m)\u001b[0m\u001b[0;34m\u001b[0m\u001b[0;34m\u001b[0m\u001b[0m\n\u001b[0m\u001b[1;32m     49\u001b[0m \u001b[0mprint\u001b[0m\u001b[0;34m(\u001b[0m\u001b[0;34m\"\\n✅ Selected feature names saved to ../comparison/selected_features.csv\"\u001b[0m\u001b[0;34m)\u001b[0m\u001b[0;34m\u001b[0m\u001b[0;34m\u001b[0m\u001b[0m\n",
            "\u001b[0;32m/usr/local/lib/python3.11/dist-packages/pandas/util/_decorators.py\u001b[0m in \u001b[0;36mwrapper\u001b[0;34m(*args, **kwargs)\u001b[0m\n\u001b[1;32m    331\u001b[0m                     \u001b[0mstacklevel\u001b[0m\u001b[0;34m=\u001b[0m\u001b[0mfind_stack_level\u001b[0m\u001b[0;34m(\u001b[0m\u001b[0;34m)\u001b[0m\u001b[0;34m,\u001b[0m\u001b[0;34m\u001b[0m\u001b[0;34m\u001b[0m\u001b[0m\n\u001b[1;32m    332\u001b[0m                 )\n\u001b[0;32m--> 333\u001b[0;31m             \u001b[0;32mreturn\u001b[0m \u001b[0mfunc\u001b[0m\u001b[0;34m(\u001b[0m\u001b[0;34m*\u001b[0m\u001b[0margs\u001b[0m\u001b[0;34m,\u001b[0m \u001b[0;34m**\u001b[0m\u001b[0mkwargs\u001b[0m\u001b[0;34m)\u001b[0m\u001b[0;34m\u001b[0m\u001b[0;34m\u001b[0m\u001b[0m\n\u001b[0m\u001b[1;32m    334\u001b[0m \u001b[0;34m\u001b[0m\u001b[0m\n\u001b[1;32m    335\u001b[0m         \u001b[0;31m# error: \"Callable[[VarArg(Any), KwArg(Any)], Any]\" has no\u001b[0m\u001b[0;34m\u001b[0m\u001b[0;34m\u001b[0m\u001b[0m\n",
            "\u001b[0;32m/usr/local/lib/python3.11/dist-packages/pandas/core/generic.py\u001b[0m in \u001b[0;36mto_csv\u001b[0;34m(self, path_or_buf, sep, na_rep, float_format, columns, header, index, index_label, mode, encoding, compression, quoting, quotechar, lineterminator, chunksize, date_format, doublequote, escapechar, decimal, errors, storage_options)\u001b[0m\n\u001b[1;32m   3965\u001b[0m         )\n\u001b[1;32m   3966\u001b[0m \u001b[0;34m\u001b[0m\u001b[0m\n\u001b[0;32m-> 3967\u001b[0;31m         return DataFrameRenderer(formatter).to_csv(\n\u001b[0m\u001b[1;32m   3968\u001b[0m             \u001b[0mpath_or_buf\u001b[0m\u001b[0;34m,\u001b[0m\u001b[0;34m\u001b[0m\u001b[0;34m\u001b[0m\u001b[0m\n\u001b[1;32m   3969\u001b[0m             \u001b[0mlineterminator\u001b[0m\u001b[0;34m=\u001b[0m\u001b[0mlineterminator\u001b[0m\u001b[0;34m,\u001b[0m\u001b[0;34m\u001b[0m\u001b[0;34m\u001b[0m\u001b[0m\n",
            "\u001b[0;32m/usr/local/lib/python3.11/dist-packages/pandas/io/formats/format.py\u001b[0m in \u001b[0;36mto_csv\u001b[0;34m(self, path_or_buf, encoding, sep, columns, index_label, mode, compression, quoting, quotechar, lineterminator, chunksize, date_format, doublequote, escapechar, errors, storage_options)\u001b[0m\n\u001b[1;32m   1012\u001b[0m             \u001b[0mformatter\u001b[0m\u001b[0;34m=\u001b[0m\u001b[0mself\u001b[0m\u001b[0;34m.\u001b[0m\u001b[0mfmt\u001b[0m\u001b[0;34m,\u001b[0m\u001b[0;34m\u001b[0m\u001b[0;34m\u001b[0m\u001b[0m\n\u001b[1;32m   1013\u001b[0m         )\n\u001b[0;32m-> 1014\u001b[0;31m         \u001b[0mcsv_formatter\u001b[0m\u001b[0;34m.\u001b[0m\u001b[0msave\u001b[0m\u001b[0;34m(\u001b[0m\u001b[0;34m)\u001b[0m\u001b[0;34m\u001b[0m\u001b[0;34m\u001b[0m\u001b[0m\n\u001b[0m\u001b[1;32m   1015\u001b[0m \u001b[0;34m\u001b[0m\u001b[0m\n\u001b[1;32m   1016\u001b[0m         \u001b[0;32mif\u001b[0m \u001b[0mcreated_buffer\u001b[0m\u001b[0;34m:\u001b[0m\u001b[0;34m\u001b[0m\u001b[0;34m\u001b[0m\u001b[0m\n",
            "\u001b[0;32m/usr/local/lib/python3.11/dist-packages/pandas/io/formats/csvs.py\u001b[0m in \u001b[0;36msave\u001b[0;34m(self)\u001b[0m\n\u001b[1;32m    249\u001b[0m         \"\"\"\n\u001b[1;32m    250\u001b[0m         \u001b[0;31m# apply compression and byte/text conversion\u001b[0m\u001b[0;34m\u001b[0m\u001b[0;34m\u001b[0m\u001b[0m\n\u001b[0;32m--> 251\u001b[0;31m         with get_handle(\n\u001b[0m\u001b[1;32m    252\u001b[0m             \u001b[0mself\u001b[0m\u001b[0;34m.\u001b[0m\u001b[0mfilepath_or_buffer\u001b[0m\u001b[0;34m,\u001b[0m\u001b[0;34m\u001b[0m\u001b[0;34m\u001b[0m\u001b[0m\n\u001b[1;32m    253\u001b[0m             \u001b[0mself\u001b[0m\u001b[0;34m.\u001b[0m\u001b[0mmode\u001b[0m\u001b[0;34m,\u001b[0m\u001b[0;34m\u001b[0m\u001b[0;34m\u001b[0m\u001b[0m\n",
            "\u001b[0;32m/usr/local/lib/python3.11/dist-packages/pandas/io/common.py\u001b[0m in \u001b[0;36mget_handle\u001b[0;34m(path_or_buf, mode, encoding, compression, memory_map, is_text, errors, storage_options)\u001b[0m\n\u001b[1;32m    747\u001b[0m     \u001b[0;31m# Only for write methods\u001b[0m\u001b[0;34m\u001b[0m\u001b[0;34m\u001b[0m\u001b[0m\n\u001b[1;32m    748\u001b[0m     \u001b[0;32mif\u001b[0m \u001b[0;34m\"r\"\u001b[0m \u001b[0;32mnot\u001b[0m \u001b[0;32min\u001b[0m \u001b[0mmode\u001b[0m \u001b[0;32mand\u001b[0m \u001b[0mis_path\u001b[0m\u001b[0;34m:\u001b[0m\u001b[0;34m\u001b[0m\u001b[0;34m\u001b[0m\u001b[0m\n\u001b[0;32m--> 749\u001b[0;31m         \u001b[0mcheck_parent_directory\u001b[0m\u001b[0;34m(\u001b[0m\u001b[0mstr\u001b[0m\u001b[0;34m(\u001b[0m\u001b[0mhandle\u001b[0m\u001b[0;34m)\u001b[0m\u001b[0;34m)\u001b[0m\u001b[0;34m\u001b[0m\u001b[0;34m\u001b[0m\u001b[0m\n\u001b[0m\u001b[1;32m    750\u001b[0m \u001b[0;34m\u001b[0m\u001b[0m\n\u001b[1;32m    751\u001b[0m     \u001b[0;32mif\u001b[0m \u001b[0mcompression\u001b[0m\u001b[0;34m:\u001b[0m\u001b[0;34m\u001b[0m\u001b[0;34m\u001b[0m\u001b[0m\n",
            "\u001b[0;32m/usr/local/lib/python3.11/dist-packages/pandas/io/common.py\u001b[0m in \u001b[0;36mcheck_parent_directory\u001b[0;34m(path)\u001b[0m\n\u001b[1;32m    614\u001b[0m     \u001b[0mparent\u001b[0m \u001b[0;34m=\u001b[0m \u001b[0mPath\u001b[0m\u001b[0;34m(\u001b[0m\u001b[0mpath\u001b[0m\u001b[0;34m)\u001b[0m\u001b[0;34m.\u001b[0m\u001b[0mparent\u001b[0m\u001b[0;34m\u001b[0m\u001b[0;34m\u001b[0m\u001b[0m\n\u001b[1;32m    615\u001b[0m     \u001b[0;32mif\u001b[0m \u001b[0;32mnot\u001b[0m \u001b[0mparent\u001b[0m\u001b[0;34m.\u001b[0m\u001b[0mis_dir\u001b[0m\u001b[0;34m(\u001b[0m\u001b[0;34m)\u001b[0m\u001b[0;34m:\u001b[0m\u001b[0;34m\u001b[0m\u001b[0;34m\u001b[0m\u001b[0m\n\u001b[0;32m--> 616\u001b[0;31m         \u001b[0;32mraise\u001b[0m \u001b[0mOSError\u001b[0m\u001b[0;34m(\u001b[0m\u001b[0;34mrf\"Cannot save file into a non-existent directory: '{parent}'\"\u001b[0m\u001b[0;34m)\u001b[0m\u001b[0;34m\u001b[0m\u001b[0;34m\u001b[0m\u001b[0m\n\u001b[0m\u001b[1;32m    617\u001b[0m \u001b[0;34m\u001b[0m\u001b[0m\n\u001b[1;32m    618\u001b[0m \u001b[0;34m\u001b[0m\u001b[0m\n",
            "\u001b[0;31mOSError\u001b[0m: Cannot save file into a non-existent directory: '../comparison'"
          ]
        }
      ]
    },
    {
      "cell_type": "code",
      "execution_count": null,
      "metadata": {
        "id": "4D8ANBodm_m_"
      },
      "outputs": [],
      "source": [
        "\n",
        "\n",
        "\n",
        "\n",
        "# Convert target from 'g'/'b' to binary 1/0\n",
        "df['target'] = df['target'].map({'g': 1, 'b': 0})\n",
        "\n",
        "# Separate features and labels\n",
        "X = df.drop(columns='target')\n",
        "y = df['target']\n",
        "\n",
        "# Split into train/test\n",
        "X_train, X_test, y_train, y_test = train_test_split(X, y, test_size=0.2, random_state=42)\n",
        "\n",
        "print(f\"Original number of features: {X.shape[1]}\")\n",
        "print(f\"Train set size: {X_train.shape[0]}, Test set size: {X_test.shape[0]}\")\n",
        "print(\"=\"*50)\n",
        "\n",
        "\n",
        "def evaluate_features(X_train_sel, X_test_sel, method_name):\n",
        "    \"\"\"Train SVM on selected features and print accuracy.\"\"\"\n",
        "    model = SVC(kernel='linear')\n",
        "    model.fit(X_train_sel, y_train)\n",
        "    y_pred = model.predict(X_test_sel)\n",
        "    acc = accuracy_score(y_test, y_pred)\n",
        "    print(f\"[{method_name}] Accuracy: {acc:.4f}\")\n",
        "    return acc\n",
        "\n",
        "\n",
        "# 1. ANOVA F-test\n",
        "print(\"🔹 Feature Selection using ANOVA F-test\")\n",
        "anova_selector = SelectKBest(score_func=f_classif, k=6)\n",
        "X_train_anova = anova_selector.fit_transform(X_train, y_train)\n",
        "X_test_anova = anova_selector.transform(X_test)\n",
        "anova_acc = evaluate_features(X_train_anova, X_test_anova, \"ANOVA F-test\")\n",
        "\n",
        "# 2. Mutual Information\n",
        "print(\"\\n🔹 Feature Selection using Mutual Information\")\n",
        "mi_selector = SelectKBest(score_func=mutual_info_classif, k=6)\n",
        "X_train_mi = mi_selector.fit_transform(X_train, y_train)\n",
        "X_test_mi = mi_selector.transform(X_test)\n",
        "mi_acc = evaluate_features(X_train_mi, X_test_mi, \"Mutual Information\")\n",
        "\n",
        "# 3. Recursive Feature Elimination (RFE) with Logistic Regression\n",
        "print(\"\\n🔹 Feature Selection using RFE\")\n",
        "rfe_model = LogisticRegression(solver='liblinear')\n",
        "rfe_selector = RFE(rfe_model, n_features_to_select=6)\n",
        "rfe_selector.fit(X_train, y_train)\n",
        "X_train_rfe = rfe_selector.transform(X_train)\n",
        "X_test_rfe = rfe_selector.transform(X_test)\n",
        "rfe_acc = evaluate_features(X_train_rfe, X_test_rfe, \"RFE\")\n",
        "\n",
        "# Summary table\n",
        "print(\"\\n📊 Summary of Feature Selection Results:\")\n",
        "summary = pd.DataFrame({\n",
        "    'Method': ['ANOVA F-test', 'Mutual Information', 'RFE'],\n",
        "    'Test Accuracy': [anova_acc, mi_acc, rfe_acc]\n",
        "})\n",
        "print(summary)\n",
        "\n",
        "# Save the selected features for later use (optional)\n",
        "selected_feature_sets = {\n",
        "    'anova': X.columns[anova_selector.get_support()],\n",
        "    'mutual_info': X.columns[mi_selector.get_support()],\n",
        "    'rfe': X.columns[rfe_selector.get_support()]\n",
        "}\n",
        "pd.DataFrame(selected_feature_sets).to_csv(\"../comparison/selected_features.csv\", index=False)\n"
      ]
    }
  ]
}